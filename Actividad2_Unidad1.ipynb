{
  "nbformat": 4,
  "nbformat_minor": 0,
  "metadata": {
    "colab": {
      "name": "Actividad2_Unidad1.ipynb",
      "provenance": [],
      "collapsed_sections": [],
      "include_colab_link": true
    },
    "kernelspec": {
      "name": "python3",
      "display_name": "Python 3"
    },
    "language_info": {
      "name": "python"
    }
  },
  "cells": [
    {
      "cell_type": "markdown",
      "metadata": {
        "id": "view-in-github",
        "colab_type": "text"
      },
      "source": [
        "<a href=\"https://colab.research.google.com/github/julihocc/ulsaPye/blob/master/Actividad2_Unidad1.ipynb\" target=\"_parent\"><img src=\"https://colab.research.google.com/assets/colab-badge.svg\" alt=\"Open In Colab\"/></a>"
      ]
    },
    {
      "cell_type": "markdown",
      "metadata": {
        "id": "WvC-QMiye2P2"
      },
      "source": [
        "**Actividad 102**\n",
        "\n",
        "Equipo 102-F\n",
        "\n",
        "1. Consulta Eiselt, H. A., Sandblom, C. (2010). Operations Research: A Model-Based Approach. Germany: Springer Berlin Heidelberg, sección 5.3.\n",
        "\n",
        "2. Replantea el problema 3 del libro Eiselt & Samblont, capítulo 5, como un problema de flujo con costo mínimo.\n",
        "\n",
        "3. Resuelve el problema utilizando pywrapgraph.SimpleMinCostFlow()\n",
        "de Google OR Tools.\n",
        "\n",
        "4. Verifica si tu respuesta es equivalente a la que da el libro. En caso de que no sea así, discute las posibles explicaciones.\n",
        "\n",
        "Transcribe tu solución en Google Colab y comparte el enlace al trabajo de tu equipo.\n"
      ]
    },
    {
      "cell_type": "code",
      "metadata": {
        "colab": {
          "base_uri": "https://localhost:8080/"
        },
        "id": "gMuq8-AVV6eU",
        "outputId": "0fff8087-cf07-47b2-d5b9-258a60889a37"
      },
      "source": [
        "!pip install ortools "
      ],
      "execution_count": 1,
      "outputs": [
        {
          "output_type": "stream",
          "text": [
            "Collecting ortools\n",
            "  Downloading ortools-9.0.9048-cp37-cp37m-manylinux1_x86_64.whl (14.4 MB)\n",
            "\u001b[K     |████████████████████████████████| 14.4 MB 87 kB/s \n",
            "\u001b[?25hRequirement already satisfied: absl-py>=0.11 in /usr/local/lib/python3.7/dist-packages (from ortools) (0.12.0)\n",
            "Requirement already satisfied: protobuf>=3.15.8 in /usr/local/lib/python3.7/dist-packages (from ortools) (3.17.3)\n",
            "Requirement already satisfied: six in /usr/local/lib/python3.7/dist-packages (from absl-py>=0.11->ortools) (1.15.0)\n",
            "Installing collected packages: ortools\n",
            "Successfully installed ortools-9.0.9048\n"
          ],
          "name": "stdout"
        }
      ]
    },
    {
      "cell_type": "markdown",
      "metadata": {
        "id": "0jpn9OuSfRjD"
      },
      "source": [
        "Primero se transforma el problema del camino mas corto, en uno de costo mínimo y posteriormente se hace uso de la función de OR Tools que encuentra en https://developers.google.com/optimization/flow/mincostflow"
      ]
    },
    {
      "cell_type": "markdown",
      "metadata": {
        "id": "mDi1pKIZfs3N"
      },
      "source": [
        "Con base en la red del problema 5.35 en Eiselt, H. A., Sandblom, C. (2010). Operations Research: A Model-Based Approach. Germany: Springer Berlin Heidelberg, sección 5.3. Los valores que se emplean para la solución del problema son los siguientes: "
      ]
    },
    {
      "cell_type": "code",
      "metadata": {
        "id": "H-OLVhdwfzxD"
      },
      "source": [
        "  start_nodes = [ 0, 0, 0, 1, 1, 2, 2, 2, 3, 3, 4, 4]\n",
        "  end_nodes   = [ 1, 2, 4, 3, 5, 1, 3, 4, 4, 5, 3, 5]\n",
        "  capacities  = [ 1, 1, 1, 1, 1, 1, 1, 1, 1, 1, 1, 1]\n",
        "  unit_costs  = [ 6, 2,10, 3, 9, 3, 7, 9, 2, 6, 1, 3]\n",
        "  supplies = [ 1, 0, 0, 0, 0, -1]"
      ],
      "execution_count": 2,
      "outputs": []
    },
    {
      "cell_type": "code",
      "metadata": {
        "id": "Wy9fD28yX5Z6"
      },
      "source": [
        "from __future__ import print_function\n",
        "from ortools.graph import pywrapgraph\n"
      ],
      "execution_count": 3,
      "outputs": []
    },
    {
      "cell_type": "markdown",
      "metadata": {
        "id": "5kPju7pSgBVJ"
      },
      "source": [
        "Aplicando la función a los valores mencioados anteriormnete, tenemos el siguiente resultado."
      ]
    },
    {
      "cell_type": "code",
      "metadata": {
        "colab": {
          "base_uri": "https://localhost:8080/"
        },
        "id": "VLot5MkXYas6",
        "outputId": "46ed5cdb-b09d-416e-814a-45173f891e27"
      },
      "source": [
        "def main():\n",
        "  \"\"\"MinCostFlow simple interface example.\"\"\"\n",
        "\n",
        "  # Define four parallel arrays: start_nodes, end_nodes, capacities, and unit costs\n",
        "  # between each pair. For instance, the arc from node 0 to node 1 has a\n",
        "  # capacity of 15 and a unit cost of 4.\n",
        "\n",
        "  start_nodes = [ 0, 0, 0, 1, 1, 2, 2, 2, 3, 3, 4, 4]\n",
        "  end_nodes   = [ 1, 2, 4, 3, 5, 1, 3, 4, 4, 5, 3, 5]\n",
        "  capacities  = [ 1, 1, 1, 1, 1, 1, 1, 1, 1, 1, 1, 1]\n",
        "  unit_costs  = [ 6, 2,10, 3, 9, 3, 7, 9, 2, 6, 1, 3]\n",
        "\n",
        "  # Define an array of supplies at each node.\n",
        "\n",
        "  supplies = [ 1, 0, 0, 0, 0, -1]\n",
        "\n",
        "\n",
        "  # Instantiate a SimpleMinCostFlow solver.\n",
        "  min_cost_flow = pywrapgraph.SimpleMinCostFlow()\n",
        "\n",
        "  # Add each arc.\n",
        "  for i in range(0, len(start_nodes)):\n",
        "    min_cost_flow.AddArcWithCapacityAndUnitCost(start_nodes[i], end_nodes[i],\n",
        "                                                capacities[i], unit_costs[i])\n",
        "\n",
        "  # Add node supplies.\n",
        "\n",
        "  for i in range(0, len(supplies)):\n",
        "    min_cost_flow.SetNodeSupply(i, supplies[i])\n",
        "\n",
        "\n",
        "  # Find the minimum cost flow between node 0 and node 4.\n",
        "  if min_cost_flow.Solve() == min_cost_flow.OPTIMAL:\n",
        "    print('Minimum cost:', min_cost_flow.OptimalCost())\n",
        "    print('')\n",
        "    print('  Arc    Flow / Capacity  Cost')\n",
        "    for i in range(min_cost_flow.NumArcs()):\n",
        "      cost = min_cost_flow.Flow(i) * min_cost_flow.UnitCost(i)\n",
        "      print('%1s -> %1s   %3s  / %3s       %3s' % (\n",
        "          min_cost_flow.Tail(i),\n",
        "          min_cost_flow.Head(i),\n",
        "          min_cost_flow.Flow(i),\n",
        "          min_cost_flow.Capacity(i),\n",
        "          cost))\n",
        "  else:\n",
        "    print('There was an issue with the min cost flow input.')\n",
        "\n",
        "if __name__ == '__main__':\n",
        "  main()"
      ],
      "execution_count": 4,
      "outputs": [
        {
          "output_type": "stream",
          "text": [
            "Minimum cost: 13\n",
            "\n",
            "  Arc    Flow / Capacity  Cost\n",
            "0 -> 1     0  /   1         0\n",
            "0 -> 2     1  /   1         2\n",
            "0 -> 4     0  /   1         0\n",
            "1 -> 3     1  /   1         3\n",
            "1 -> 5     0  /   1         0\n",
            "2 -> 1     1  /   1         3\n",
            "2 -> 3     0  /   1         0\n",
            "2 -> 4     0  /   1         0\n",
            "3 -> 4     1  /   1         2\n",
            "3 -> 5     0  /   1         0\n",
            "4 -> 3     0  /   1         0\n",
            "4 -> 5     1  /   1         3\n"
          ],
          "name": "stdout"
        }
      ]
    },
    {
      "cell_type": "markdown",
      "metadata": {
        "id": "T284BJCHgPBQ"
      },
      "source": [
        "Como podemos observar el costo minimo es 13, tal como se obtuvo en el resultado del problema planeteado como un problema de ruta mas corta.\n",
        "\n",
        "Adicionalmente podemos observar que la ruta óptima es la siguiente:\n",
        "\n",
        "0 -> 2, 2 -> 1, 1 -> 3, 3 -> 4, 4 -> 4\n",
        "\n",
        "La cual también coincide con la solución propuesta en el libro.\n"
      ]
    }
  ]
}