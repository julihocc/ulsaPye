{
  "nbformat": 4,
  "nbformat_minor": 0,
  "metadata": {
    "colab": {
      "name": "MACD_102.ipynb",
      "provenance": [],
      "include_colab_link": true
    },
    "kernelspec": {
      "name": "python3",
      "display_name": "Python 3"
    },
    "language_info": {
      "name": "python"
    }
  },
  "cells": [
    {
      "cell_type": "markdown",
      "metadata": {
        "id": "view-in-github",
        "colab_type": "text"
      },
      "source": [
        "<a href=\"https://colab.research.google.com/github/julihocc/ulsaPye/blob/master/MACD_102.ipynb\" target=\"_parent\"><img src=\"https://colab.research.google.com/assets/colab-badge.svg\" alt=\"Open In Colab\"/></a>"
      ]
    },
    {
      "cell_type": "markdown",
      "metadata": {
        "id": "ihE_U4-6kQzx"
      },
      "source": [
        "**Actividad 102**\n",
        "\n",
        "Grupo: 102-A\n",
        "\n",
        "**Instrucciones**\n",
        "\n",
        "1. Consulta Eiselt, H. A., Sandblom, C. (2010). Operations Research: A Model-Based Approach. Germany: Springer Berlin Heidelberg, sección 5.3.\n",
        "2. Replantea el problema 3 del libro Eiselt & Samblont, capítulo 5, como un problema de flujo con costo mínimo.\n",
        "3. Resuelve el problema utilizando `pywrapgraph.SimpleMinCostFlow()`\n",
        "de Google OR Tools.\n",
        "4. Verifica si tu respuesta es equivalente a la que da el libro. En caso de que no sea así, discute las posibles explicaciones.\n",
        "Transcribe tu solución en DataLore y comparte el enlace al trabajo de tu equipo."
      ]
    },
    {
      "cell_type": "markdown",
      "metadata": {
        "id": "Wji52yWphjDI"
      },
      "source": [
        "## Problema 3:\n",
        "\n",
        "Considerndo el diagrama de la red del ejercicio, determine el camino más corto para llegar del nodo $n_s$ a todos los otros nodos, remplantenadolo como un problema de flujo con costo mínimo.\n",
        "\n",
        "## Solución:\n",
        "\n",
        "El libro resuelve el problema con el algoritmo de Dijkstra, con el cual obtiene la ruta más corta  con un costo de $13$ unidades para ir desde el nodo fuente al nodo destino es: $n_s \\rightarrow n_2 \\rightarrow n_1 \\rightarrow n_3 \\rightarrow n_4 \\rightarrow n_t$ \n"
      ]
    },
    {
      "cell_type": "code",
      "metadata": {
        "colab": {
          "base_uri": "https://localhost:8080/"
        },
        "id": "1kqiytfy4B_X",
        "outputId": "1cdb19d3-434f-40f3-80ea-25f68d7aa03e"
      },
      "source": [
        "!pip install ortools\n",
        "from ortools.graph import pywrapgraph\n",
        "import graphviz as gv\n",
        "import matplotlib.pyplot as plt\n",
        "import matplotlib.image as img"
      ],
      "execution_count": null,
      "outputs": [
        {
          "output_type": "stream",
          "text": [
            "Requirement already satisfied: ortools in /usr/local/lib/python3.7/dist-packages (9.0.9048)\n",
            "Requirement already satisfied: absl-py>=0.11 in /usr/local/lib/python3.7/dist-packages (from ortools) (0.12.0)\n",
            "Requirement already satisfied: protobuf>=3.15.8 in /usr/local/lib/python3.7/dist-packages (from ortools) (3.17.3)\n",
            "Requirement already satisfied: six in /usr/local/lib/python3.7/dist-packages (from absl-py>=0.11->ortools) (1.15.0)\n"
          ],
          "name": "stdout"
        }
      ]
    },
    {
      "cell_type": "markdown",
      "metadata": {
        "id": "OrjD5Mmy4k95"
      },
      "source": [
        "### Para replantear este problema a un a solución de optimización de mínimo flujo:\n",
        "\n",
        "Se deben señalar todos los posibles caminos de un paso que existen tomando como referecnia cada uno de los nodos, por ejemplo, desde el nodo fuente (nodo 0) existen tres posibles trayectorias de un paso que serían $n_0 \\rightarrow n_1, n_0 \\rightarrow n_2, n_0 \\rightarrow n_4$, además de agregar el arco circulatorio $(n_t,n_s)$ con capacidad de $5$ y costo $0$. Después se señalan las trayectorias de un paso de los siguientes nodos y guardamos en el objeto `capacites` y `unit_costs` el flujo de cada uno de los arcos de estas posibles trayectorias de un paso.\n",
        "\n",
        "Para llevar este problema de camino más corto a un problema de mínimo flujo es importante establecer un flujo unitario en el red y de señalar el nodo fuente y el nodo absorbente.\n",
        "\n",
        "Esto último se consigue con el objeto `supplies` que para el nodo fuente es $1$, para el nodo absorte es $-1$ y para los demas nodos es $0$, estbaleciendo así un flujo unitario en la red que nace en $n_0$ y se consume en $n_t$"
      ]
    },
    {
      "cell_type": "code",
      "metadata": {
        "id": "7Xg-T8H8hqqq"
      },
      "source": [
        "start_nodes = [0, 0, 0, 1, 1, 2, 2, 2, 3, 3, 4, 4, 5]\n",
        "end_nodes   = [1, 2, 4, 3, 5, 1, 3, 4, 4, 5, 3, 5, 0]\n",
        "capacities  = [6, 2, 10, 3, 9, 3, 7, 9, 2, 6, 1, 3, 1]\n",
        "unit_costs  = [6, 2, 10, 3, 9, 3, 7, 9, 2, 6, 1, 3, 0]\n",
        "\n",
        "supplies = [1, 0, 0, 0, 0, -1]"
      ],
      "execution_count": null,
      "outputs": []
    },
    {
      "cell_type": "markdown",
      "metadata": {
        "id": "2c3ireBH6qp8"
      },
      "source": [
        "La función objetivo es minimizar el costo del flujo dentro de la red, al ser un flujo unitario la función objetivo va a  minimizar el costo de la trayectoria."
      ]
    },
    {
      "cell_type": "code",
      "metadata": {
        "id": "lUBJQzFX3lFo"
      },
      "source": [
        "# Función obejtivo.\n",
        "min_cost_flow = pywrapgraph.SimpleMinCostFlow()\n",
        "\n",
        "# Restricciones\n",
        "for i in range(0, len(start_nodes)):\n",
        "  min_cost_flow.AddArcWithCapacityAndUnitCost(start_nodes[i], end_nodes[i],capacities[i], unit_costs[i])\n",
        "  \n",
        "for i in range(0, len(supplies)):\n",
        "  min_cost_flow.SetNodeSupply(i, supplies[i])\n"
      ],
      "execution_count": null,
      "outputs": []
    },
    {
      "cell_type": "markdown",
      "metadata": {
        "id": "ooWgVSha7Vxl"
      },
      "source": [
        "El Algoritmo encuentra una solución a la función objetivo con las restricciones establecidas"
      ]
    },
    {
      "cell_type": "code",
      "metadata": {
        "colab": {
          "base_uri": "https://localhost:8080/"
        },
        "id": "S3t885vX6nOA",
        "outputId": "a0553dc9-bd85-489c-e327-8fe09909cadb"
      },
      "source": [
        "# Encuentra el costo mínimo del flujo para ir del nodo fuente (n_0) al nodo abosrbente (n_5).\n",
        "if min_cost_flow.Solve() == min_cost_flow.OPTIMAL:\n",
        "  print('Minimum cost:', min_cost_flow.OptimalCost())\n",
        "  print('')\n",
        "  print('  Arc    Flow / Capacity  Cost')\n",
        "  for i in range(min_cost_flow.NumArcs()):\n",
        "    cost = min_cost_flow.Flow(i) * min_cost_flow.UnitCost(i)\n",
        "    print('%1s -> %1s   %3s  / %3s       %3s' % (\n",
        "        min_cost_flow.Tail(i),\n",
        "        min_cost_flow.Head(i),\n",
        "        min_cost_flow.Flow(i),\n",
        "        min_cost_flow.Capacity(i),\n",
        "        cost))\n",
        "else:\n",
        "  print('There was an issue with the min cost flow input.')"
      ],
      "execution_count": null,
      "outputs": [
        {
          "output_type": "stream",
          "text": [
            "Minimum cost: 13\n",
            "\n",
            "  Arc    Flow / Capacity  Cost\n",
            "0 -> 1     0  /   6         0\n",
            "0 -> 2     1  /   2         2\n",
            "0 -> 4     0  /  10         0\n",
            "1 -> 3     1  /   3         3\n",
            "1 -> 5     0  /   9         0\n",
            "2 -> 1     1  /   3         3\n",
            "2 -> 3     0  /   7         0\n",
            "2 -> 4     0  /   9         0\n",
            "3 -> 4     1  /   2         2\n",
            "3 -> 5     0  /   6         0\n",
            "4 -> 3     0  /   1         0\n",
            "4 -> 5     1  /   3         3\n",
            "5 -> 0     0  /   1         0\n"
          ],
          "name": "stdout"
        }
      ]
    },
    {
      "cell_type": "markdown",
      "metadata": {
        "id": "JiNmHg0h78bB"
      },
      "source": [
        "## Conclusiones:\n",
        "\n",
        "\n",
        "La solución del camino más corto que encuntra la herramienta de ORTools es la misma que encuentra como solución el libro desde el algoritmo de Dijkstra.\n",
        "\n",
        "Se puede revisar esta trayectoria desde la columna de costo ('Cost') en la impresión de la solución. Los nodos que tienen número diferente de cero es la ruta que debe tomar el flujo unitario para recorrer la trayectoria de mínimo costo más y corta que va desde el nodo fuente ($n_0$) hasta el nodo absorbente ($n_t$).\n",
        "\n",
        "\n",
        "Una observación adicional es que a simple vista es evidente una trayectoria que tiene un costo igual que el mínimo (costo de 13) pero con una trayectoria de menor cantidad de arcos que es la de $n_s \\rightarrow n_4 \\rightarrow n_t$; nos queda la duda porque en ambos algoritmos no encuentra esta ruta de 3 pasos y si señala una ruta de 5 pasos."
      ]
    }
  ]
}