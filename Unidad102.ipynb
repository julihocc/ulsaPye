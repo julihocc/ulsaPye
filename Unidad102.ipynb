{
  "nbformat": 4,
  "nbformat_minor": 0,
  "metadata": {
    "colab": {
      "name": "Unidad102.ipynb",
      "provenance": [],
      "collapsed_sections": [],
      "include_colab_link": true
    },
    "kernelspec": {
      "name": "python3",
      "display_name": "Python 3"
    },
    "language_info": {
      "name": "python"
    }
  },
  "cells": [
    {
      "cell_type": "markdown",
      "metadata": {
        "id": "view-in-github",
        "colab_type": "text"
      },
      "source": [
        "<a href=\"https://colab.research.google.com/github/julihocc/ulsaPye/blob/master/Unidad102.ipynb\" target=\"_parent\"><img src=\"https://colab.research.google.com/assets/colab-badge.svg\" alt=\"Open In Colab\"/></a>"
      ]
    },
    {
      "cell_type": "code",
      "metadata": {
        "colab": {
          "base_uri": "https://localhost:8080/"
        },
        "id": "E51jPi21Cmf-",
        "outputId": "2836ce79-554f-4f95-b01f-26199a6b5064"
      },
      "source": [
        "pip install ortools"
      ],
      "execution_count": null,
      "outputs": [
        {
          "output_type": "stream",
          "text": [
            "Collecting ortools\n",
            "  Downloading ortools-9.0.9048-cp37-cp37m-manylinux1_x86_64.whl (14.4 MB)\n",
            "\u001b[K     |████████████████████████████████| 14.4 MB 94 kB/s \n",
            "\u001b[?25hRequirement already satisfied: absl-py>=0.11 in /usr/local/lib/python3.7/dist-packages (from ortools) (0.12.0)\n",
            "Requirement already satisfied: protobuf>=3.15.8 in /usr/local/lib/python3.7/dist-packages (from ortools) (3.17.3)\n",
            "Requirement already satisfied: six in /usr/local/lib/python3.7/dist-packages (from absl-py>=0.11->ortools) (1.15.0)\n",
            "Installing collected packages: ortools\n",
            "Successfully installed ortools-9.0.9048\n"
          ],
          "name": "stdout"
        }
      ]
    },
    {
      "cell_type": "code",
      "metadata": {
        "id": "9K7wb1pKFpMn"
      },
      "source": [
        "from ortools.graph import pywrapgraph\n",
        "import graphviz as gv\n",
        "import matplotlib.pyplot as plt\n",
        "import matplotlib.image as img"
      ],
      "execution_count": null,
      "outputs": []
    },
    {
      "cell_type": "code",
      "metadata": {
        "id": "0cfPC3kyGpIm",
        "colab": {
          "base_uri": "https://localhost:8080/"
        },
        "outputId": "fd636221-e18f-437a-cfe6-662fd15e2f66"
      },
      "source": [
        "\"\"\"MinCostFlow simple interface example.\"\"\"\n",
        "\n",
        "#Definir 4 arrays paralelos: start_nodes, end_nodes, capacities, and unit costs\n",
        "# Es importante agregar un flujo de regreso entre el nodo inicial y final para transformar\n",
        "#el problema en un problema de costo mínimo: (5,0 capacidad:1 y costo: 1)\n",
        "\n",
        "start_nodes = [0,0,0, 1,1,2,2,2,3,3,4,4,5]\n",
        "end_nodes   = [1,2,4, 3,5,1,3,4,4,5,3,5,0]\n",
        "capacities  = [1,1,1, 1,1,1,1,1,1,1,1,1,1]\n",
        "unit_costs  = [6,2,10,3,9,3,7,9,2,6,1,3,1]\n",
        "\n",
        "# Definir la restricción: Se alimenta el inicio y el final demanda la carga inicial\n",
        "supplies = [1,0,0,0,0,-1]\n",
        "\n",
        "# Inicializar SimpleMinCostFlow solver.\n",
        "min_cost_flow = pywrapgraph.SimpleMinCostFlow()\n",
        "\n",
        "# Agregar arcos.\n",
        "for i in range(0, len(start_nodes)):\n",
        "  min_cost_flow.AddArcWithCapacityAndUnitCost(start_nodes[i], end_nodes[i],\n",
        "                                                capacities[i], unit_costs[i])\n",
        "\n",
        " # Agregar restricción.\n",
        "\n",
        "for i in range(0, len(supplies)):\n",
        "  min_cost_flow.SetNodeSupply(i, supplies[i])\n",
        "\n",
        "solution = {}\n",
        "# Encontrar el valor mínimo\n",
        "if min_cost_flow.Solve() == min_cost_flow.OPTIMAL:\n",
        "  print('Minimum cost:', min_cost_flow.OptimalCost())\n",
        "  print('')\n",
        "  print('  Arc    Flow / Capacity  Cost')\n",
        "  for i in range(min_cost_flow.NumArcs()):\n",
        "    cost = min_cost_flow.Flow(i) * min_cost_flow.UnitCost(i)\n",
        "    tail = min_cost_flow.Tail(i)\n",
        "    head = min_cost_flow.Head(i)\n",
        "    flow = min_cost_flow.Flow(i)\n",
        "    capacity = min_cost_flow.Capacity(i)\n",
        "    if flow>0:\n",
        "            solution[(tail, head)] = (flow, capacity)\n",
        "    print('%1s -> %1s   %3s  / %3s       %3s' % (\n",
        "          min_cost_flow.Tail(i),\n",
        "          min_cost_flow.Head(i),\n",
        "          min_cost_flow.Flow(i),\n",
        "          min_cost_flow.Capacity(i),\n",
        "          cost))\n",
        "else:\n",
        "  print('Hubo un problema con la entrada min cost flow.')"
      ],
      "execution_count": null,
      "outputs": [
        {
          "output_type": "stream",
          "text": [
            "Minimum cost: 13\n",
            "\n",
            "  Arc    Flow / Capacity  Cost\n",
            "0 -> 1     0  /   1         0\n",
            "0 -> 2     1  /   1         2\n",
            "0 -> 4     0  /   1         0\n",
            "1 -> 3     1  /   1         3\n",
            "1 -> 5     0  /   1         0\n",
            "2 -> 1     1  /   1         3\n",
            "2 -> 3     0  /   1         0\n",
            "2 -> 4     0  /   1         0\n",
            "3 -> 4     1  /   1         2\n",
            "3 -> 5     0  /   1         0\n",
            "4 -> 3     0  /   1         0\n",
            "4 -> 5     1  /   1         3\n",
            "5 -> 0     0  /   1         0\n"
          ],
          "name": "stdout"
        }
      ]
    },
    {
      "cell_type": "code",
      "metadata": {
        "id": "U1GxYUxZQKSl",
        "colab": {
          "base_uri": "https://localhost:8080/",
          "height": 248
        },
        "outputId": "bf5499b2-f8cb-4a6f-ed70-d73303a494ff"
      },
      "source": [
        "f = gv.Graph(name= \"solution_1\", format = \"png\")\n",
        "for k, v in solution.items():\n",
        "    tail, head = k\n",
        "    flow, capacity = v\n",
        "    f.edge(str(tail), str(head), label=\"{}/{}\".format(flow, capacity))\n",
        "f.view()\n",
        "\n",
        "im = img.imread(\"solution_1.gv.png\")\n",
        "plt.imshow(im)\n",
        "plt.axis('off')\n",
        "plt.show()"
      ],
      "execution_count": null,
      "outputs": [
        {
          "output_type": "display_data",
          "data": {
            "image/png": "[encoded data removed]",
            "text/plain": [
              "<Figure size 432x288 with 1 Axes>"
            ]
          },
          "metadata": {
            "tags": [],
            "needs_background": "light"
          }
        }
      ]
    }
  ]
}